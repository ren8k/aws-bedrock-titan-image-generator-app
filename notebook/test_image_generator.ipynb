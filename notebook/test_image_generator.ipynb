{
 "cells": [
  {
   "cell_type": "code",
   "execution_count": 1,
   "metadata": {},
   "outputs": [],
   "source": [
    "import sys\n",
    "sys.path.append(\"/app/amzn-titan/src/app\")"
   ]
  },
  {
   "cell_type": "code",
   "execution_count": 3,
   "metadata": {},
   "outputs": [
    {
     "name": "stderr",
     "output_type": "stream",
     "text": [
      "/app/amzn-titan/src/app/utils.py:49: UserWarning: FigureCanvasAgg is non-interactive, and thus cannot be shown\n",
      "  plt.show()\n"
     ]
    }
   ],
   "source": [
    "import utils as utils\n",
    "from image_generator import ImageGenerator\n",
    "\n",
    "REGION = \"us-west-2\"\n",
    "MODEL_ID = \"amazon.titan-image-generator-v2:0\"\n",
    "\n",
    "\n",
    "def main() -> None:\n",
    "    input_image_path = \"/app/amzn-titan/images/input/resized_dogcat.png\"\n",
    "    mask_image_path = \"/app/amzn-titan/images/mask/resized_mask_combined.png\"\n",
    "    save_dir = \"/app/amzn-titan/images/output\"\n",
    "    prompt = \"ocean\"\n",
    "    negative_prompt = \"bad quality, low res, noise\"\n",
    "    # mask_prompt = \"A cute brown puppy\"\n",
    "    seed = 42\n",
    "    num_image = 2\n",
    "\n",
    "    img_generator = ImageGenerator(region=REGION)\n",
    "    input_image = utils.read_image_as_base64(input_image_path)\n",
    "    # input_images = [input_image]\n",
    "    mask_image = utils.read_image_as_base64(mask_image_path)\n",
    "\n",
    "    payload = img_generator.make_outpaint_payload(\n",
    "        prompt=prompt,\n",
    "        negative_prompt=negative_prompt,\n",
    "        input_image=input_image,\n",
    "        mask_image=mask_image,\n",
    "        # mask_prompt=mask_prompt,\n",
    "        outpainting_mode=\"PRECISE\",\n",
    "    )\n",
    "    response = img_generator.generate_image(\n",
    "        payload=payload, model_id=MODEL_ID, seed=seed, num_image=num_image\n",
    "    )\n",
    "    images = img_generator.extract_images_from(response)\n",
    "    utils.save_images(save_dir, images, seed=seed)\n",
    "    utils.show_images(images)\n",
    "\n",
    "\n",
    "if __name__ == \"__main__\":\n",
    "    main()"
   ]
  },
  {
   "cell_type": "code",
   "execution_count": null,
   "metadata": {},
   "outputs": [],
   "source": []
  }
 ],
 "metadata": {
  "kernelspec": {
   "display_name": "base",
   "language": "python",
   "name": "python3"
  },
  "language_info": {
   "codemirror_mode": {
    "name": "ipython",
    "version": 3
   },
   "file_extension": ".py",
   "mimetype": "text/x-python",
   "name": "python",
   "nbconvert_exporter": "python",
   "pygments_lexer": "ipython3",
   "version": "3.11.9"
  }
 },
 "nbformat": 4,
 "nbformat_minor": 2
}
